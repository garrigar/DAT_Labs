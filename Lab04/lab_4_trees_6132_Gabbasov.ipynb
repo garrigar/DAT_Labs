{
 "cells": [
  {
   "cell_type": "markdown",
   "id": "72462c0e-cfb7-4075-a6ee-b2300bd3566a",
   "metadata": {
    "pycharm": {
     "name": "#%% md\n"
    }
   },
   "source": [
    "# Лабораторная работа 4\n",
    "\n",
    "Деревья решений\n",
    "\n",
    "Выполнил: 6132-010402D, Габбасов Раиль"
   ]
  },
  {
   "cell_type": "markdown",
   "id": "752fdba9-05f9-4f24-add0-64bc60005880",
   "metadata": {
    "pycharm": {
     "name": "#%% md\n"
    }
   },
   "source": [
    "0.  Выберите набор данных для классификации (бинарной или многоклассовой — не важно). Опишите данные, что обозначает каждый столбец, какого типа (категориальный, вещественный, целочисленный, бинарный) данный столбец, при необходимости для категориальных в том числе бинарных признаков привести расшифровку их значений. В общем, проведите \"визуальный\" анализ ваших данных."
   ]
  },
  {
   "cell_type": "code",
   "execution_count": 1,
   "id": "3d7ba34d-6090-4db7-a9fb-6816fafe6110",
   "metadata": {},
   "outputs": [],
   "source": [
    "import pandas as pd\n",
    "import numpy as np\n",
    "import matplotlib.pyplot as plt\n",
    "from sklearn.preprocessing import StandardScaler, MinMaxScaler\n",
    "from sklearn.model_selection import train_test_split\n",
    "from sklearn.neighbors import KNeighborsClassifier\n",
    "from sklearn.metrics import accuracy_score\n",
    "from sklearn.pipeline import Pipeline\n",
    "from sklearn.model_selection import GridSearchCV\n",
    "from sklearn.tree import DecisionTreeClassifier\n",
    "from sklearn.ensemble import RandomForestClassifier"
   ]
  },
  {
   "cell_type": "code",
   "execution_count": 2,
   "id": "e9da4c1c-40ac-4388-84a7-a7d5e1fc7d0e",
   "metadata": {},
   "outputs": [],
   "source": [
    "df = pd.read_csv('../data/zoo3.csv')"
   ]
  },
  {
   "cell_type": "code",
   "execution_count": 3,
   "id": "7415ec2b-5964-4a13-8c24-8a07dbf94927",
   "metadata": {},
   "outputs": [
    {
     "data": {
      "text/html": [
       "<div>\n",
       "<style scoped>\n",
       "    .dataframe tbody tr th:only-of-type {\n",
       "        vertical-align: middle;\n",
       "    }\n",
       "\n",
       "    .dataframe tbody tr th {\n",
       "        vertical-align: top;\n",
       "    }\n",
       "\n",
       "    .dataframe thead th {\n",
       "        text-align: right;\n",
       "    }\n",
       "</style>\n",
       "<table border=\"1\" class=\"dataframe\">\n",
       "  <thead>\n",
       "    <tr style=\"text-align: right;\">\n",
       "      <th></th>\n",
       "      <th>animal_name</th>\n",
       "      <th>hair</th>\n",
       "      <th>feathers</th>\n",
       "      <th>eggs</th>\n",
       "      <th>milk</th>\n",
       "      <th>airborne</th>\n",
       "      <th>aquatic</th>\n",
       "      <th>predator</th>\n",
       "      <th>toothed</th>\n",
       "      <th>backbone</th>\n",
       "      <th>breathes</th>\n",
       "      <th>venomous</th>\n",
       "      <th>fins</th>\n",
       "      <th>legs</th>\n",
       "      <th>tail</th>\n",
       "      <th>domestic</th>\n",
       "      <th>catsize</th>\n",
       "      <th>class_type</th>\n",
       "    </tr>\n",
       "  </thead>\n",
       "  <tbody>\n",
       "    <tr>\n",
       "      <th>0</th>\n",
       "      <td>anta</td>\n",
       "      <td>1</td>\n",
       "      <td>0</td>\n",
       "      <td>0</td>\n",
       "      <td>1</td>\n",
       "      <td>0</td>\n",
       "      <td>0</td>\n",
       "      <td>0</td>\n",
       "      <td>1</td>\n",
       "      <td>1</td>\n",
       "      <td>1</td>\n",
       "      <td>0</td>\n",
       "      <td>0</td>\n",
       "      <td>4</td>\n",
       "      <td>0</td>\n",
       "      <td>0</td>\n",
       "      <td>0</td>\n",
       "      <td>1</td>\n",
       "    </tr>\n",
       "    <tr>\n",
       "      <th>1</th>\n",
       "      <td>ariranha</td>\n",
       "      <td>1</td>\n",
       "      <td>0</td>\n",
       "      <td>0</td>\n",
       "      <td>1</td>\n",
       "      <td>0</td>\n",
       "      <td>1</td>\n",
       "      <td>1</td>\n",
       "      <td>1</td>\n",
       "      <td>1</td>\n",
       "      <td>1</td>\n",
       "      <td>0</td>\n",
       "      <td>1</td>\n",
       "      <td>4</td>\n",
       "      <td>1</td>\n",
       "      <td>0</td>\n",
       "      <td>0</td>\n",
       "      <td>1</td>\n",
       "    </tr>\n",
       "    <tr>\n",
       "      <th>2</th>\n",
       "      <td>boto-cor-de-rosa</td>\n",
       "      <td>0</td>\n",
       "      <td>0</td>\n",
       "      <td>0</td>\n",
       "      <td>1</td>\n",
       "      <td>0</td>\n",
       "      <td>1</td>\n",
       "      <td>1</td>\n",
       "      <td>1</td>\n",
       "      <td>1</td>\n",
       "      <td>1</td>\n",
       "      <td>0</td>\n",
       "      <td>1</td>\n",
       "      <td>0</td>\n",
       "      <td>1</td>\n",
       "      <td>0</td>\n",
       "      <td>0</td>\n",
       "      <td>1</td>\n",
       "    </tr>\n",
       "    <tr>\n",
       "      <th>3</th>\n",
       "      <td>bugio</td>\n",
       "      <td>1</td>\n",
       "      <td>0</td>\n",
       "      <td>0</td>\n",
       "      <td>1</td>\n",
       "      <td>0</td>\n",
       "      <td>0</td>\n",
       "      <td>0</td>\n",
       "      <td>1</td>\n",
       "      <td>1</td>\n",
       "      <td>1</td>\n",
       "      <td>0</td>\n",
       "      <td>0</td>\n",
       "      <td>4</td>\n",
       "      <td>1</td>\n",
       "      <td>0</td>\n",
       "      <td>0</td>\n",
       "      <td>1</td>\n",
       "    </tr>\n",
       "    <tr>\n",
       "      <th>4</th>\n",
       "      <td>cachorro-vinagre</td>\n",
       "      <td>1</td>\n",
       "      <td>0</td>\n",
       "      <td>0</td>\n",
       "      <td>1</td>\n",
       "      <td>0</td>\n",
       "      <td>0</td>\n",
       "      <td>1</td>\n",
       "      <td>1</td>\n",
       "      <td>1</td>\n",
       "      <td>1</td>\n",
       "      <td>0</td>\n",
       "      <td>0</td>\n",
       "      <td>4</td>\n",
       "      <td>1</td>\n",
       "      <td>0</td>\n",
       "      <td>1</td>\n",
       "      <td>1</td>\n",
       "    </tr>\n",
       "    <tr>\n",
       "      <th>...</th>\n",
       "      <td>...</td>\n",
       "      <td>...</td>\n",
       "      <td>...</td>\n",
       "      <td>...</td>\n",
       "      <td>...</td>\n",
       "      <td>...</td>\n",
       "      <td>...</td>\n",
       "      <td>...</td>\n",
       "      <td>...</td>\n",
       "      <td>...</td>\n",
       "      <td>...</td>\n",
       "      <td>...</td>\n",
       "      <td>...</td>\n",
       "      <td>...</td>\n",
       "      <td>...</td>\n",
       "      <td>...</td>\n",
       "      <td>...</td>\n",
       "      <td>...</td>\n",
       "    </tr>\n",
       "    <tr>\n",
       "      <th>65</th>\n",
       "      <td>vespa</td>\n",
       "      <td>0</td>\n",
       "      <td>0</td>\n",
       "      <td>1</td>\n",
       "      <td>0</td>\n",
       "      <td>1</td>\n",
       "      <td>0</td>\n",
       "      <td>1</td>\n",
       "      <td>0</td>\n",
       "      <td>0</td>\n",
       "      <td>1</td>\n",
       "      <td>1</td>\n",
       "      <td>0</td>\n",
       "      <td>6</td>\n",
       "      <td>0</td>\n",
       "      <td>0</td>\n",
       "      <td>0</td>\n",
       "      <td>6</td>\n",
       "    </tr>\n",
       "    <tr>\n",
       "      <th>66</th>\n",
       "      <td>bicho-pau</td>\n",
       "      <td>0</td>\n",
       "      <td>0</td>\n",
       "      <td>1</td>\n",
       "      <td>0</td>\n",
       "      <td>0</td>\n",
       "      <td>0</td>\n",
       "      <td>0</td>\n",
       "      <td>0</td>\n",
       "      <td>0</td>\n",
       "      <td>1</td>\n",
       "      <td>0</td>\n",
       "      <td>0</td>\n",
       "      <td>6</td>\n",
       "      <td>0</td>\n",
       "      <td>0</td>\n",
       "      <td>0</td>\n",
       "      <td>7</td>\n",
       "    </tr>\n",
       "    <tr>\n",
       "      <th>67</th>\n",
       "      <td>caracol-da-mata-atlantica</td>\n",
       "      <td>0</td>\n",
       "      <td>0</td>\n",
       "      <td>1</td>\n",
       "      <td>0</td>\n",
       "      <td>0</td>\n",
       "      <td>0</td>\n",
       "      <td>0</td>\n",
       "      <td>0</td>\n",
       "      <td>0</td>\n",
       "      <td>1</td>\n",
       "      <td>0</td>\n",
       "      <td>0</td>\n",
       "      <td>0</td>\n",
       "      <td>0</td>\n",
       "      <td>0</td>\n",
       "      <td>0</td>\n",
       "      <td>7</td>\n",
       "    </tr>\n",
       "    <tr>\n",
       "      <th>68</th>\n",
       "      <td>caranguejeira</td>\n",
       "      <td>1</td>\n",
       "      <td>0</td>\n",
       "      <td>1</td>\n",
       "      <td>0</td>\n",
       "      <td>0</td>\n",
       "      <td>0</td>\n",
       "      <td>1</td>\n",
       "      <td>0</td>\n",
       "      <td>0</td>\n",
       "      <td>1</td>\n",
       "      <td>1</td>\n",
       "      <td>0</td>\n",
       "      <td>8</td>\n",
       "      <td>0</td>\n",
       "      <td>0</td>\n",
       "      <td>0</td>\n",
       "      <td>7</td>\n",
       "    </tr>\n",
       "    <tr>\n",
       "      <th>69</th>\n",
       "      <td>sauva-limao</td>\n",
       "      <td>1</td>\n",
       "      <td>0</td>\n",
       "      <td>1</td>\n",
       "      <td>0</td>\n",
       "      <td>0</td>\n",
       "      <td>0</td>\n",
       "      <td>1</td>\n",
       "      <td>0</td>\n",
       "      <td>0</td>\n",
       "      <td>1</td>\n",
       "      <td>1</td>\n",
       "      <td>0</td>\n",
       "      <td>6</td>\n",
       "      <td>0</td>\n",
       "      <td>0</td>\n",
       "      <td>0</td>\n",
       "      <td>7</td>\n",
       "    </tr>\n",
       "  </tbody>\n",
       "</table>\n",
       "<p>70 rows × 18 columns</p>\n",
       "</div>"
      ],
      "text/plain": [
       "                  animal_name  hair  feathers  eggs  milk  airborne  aquatic  \\\n",
       "0                        anta     1         0     0     1         0        0   \n",
       "1                    ariranha     1         0     0     1         0        1   \n",
       "2            boto-cor-de-rosa     0         0     0     1         0        1   \n",
       "3                       bugio     1         0     0     1         0        0   \n",
       "4            cachorro-vinagre     1         0     0     1         0        0   \n",
       "..                        ...   ...       ...   ...   ...       ...      ...   \n",
       "65                      vespa     0         0     1     0         1        0   \n",
       "66                  bicho-pau     0         0     1     0         0        0   \n",
       "67  caracol-da-mata-atlantica     0         0     1     0         0        0   \n",
       "68              caranguejeira     1         0     1     0         0        0   \n",
       "69                sauva-limao     1         0     1     0         0        0   \n",
       "\n",
       "    predator  toothed  backbone  breathes  venomous  fins  legs  tail  \\\n",
       "0          0        1         1         1         0     0     4     0   \n",
       "1          1        1         1         1         0     1     4     1   \n",
       "2          1        1         1         1         0     1     0     1   \n",
       "3          0        1         1         1         0     0     4     1   \n",
       "4          1        1         1         1         0     0     4     1   \n",
       "..       ...      ...       ...       ...       ...   ...   ...   ...   \n",
       "65         1        0         0         1         1     0     6     0   \n",
       "66         0        0         0         1         0     0     6     0   \n",
       "67         0        0         0         1         0     0     0     0   \n",
       "68         1        0         0         1         1     0     8     0   \n",
       "69         1        0         0         1         1     0     6     0   \n",
       "\n",
       "    domestic  catsize  class_type  \n",
       "0          0        0           1  \n",
       "1          0        0           1  \n",
       "2          0        0           1  \n",
       "3          0        0           1  \n",
       "4          0        1           1  \n",
       "..       ...      ...         ...  \n",
       "65         0        0           6  \n",
       "66         0        0           7  \n",
       "67         0        0           7  \n",
       "68         0        0           7  \n",
       "69         0        0           7  \n",
       "\n",
       "[70 rows x 18 columns]"
      ]
     },
     "execution_count": 3,
     "metadata": {},
     "output_type": "execute_result"
    }
   ],
   "source": [
    "df"
   ]
  },
  {
   "cell_type": "code",
   "execution_count": 4,
   "id": "045ee18d-9ed1-4dc4-a9ee-e26758ecfb98",
   "metadata": {},
   "outputs": [
    {
     "data": {
      "text/plain": [
       "animal_name    object\n",
       "hair            int64\n",
       "feathers        int64\n",
       "eggs            int64\n",
       "milk            int64\n",
       "airborne        int64\n",
       "aquatic         int64\n",
       "predator        int64\n",
       "toothed         int64\n",
       "backbone        int64\n",
       "breathes        int64\n",
       "venomous        int64\n",
       "fins            int64\n",
       "legs            int64\n",
       "tail            int64\n",
       "domestic        int64\n",
       "catsize         int64\n",
       "class_type      int64\n",
       "dtype: object"
      ]
     },
     "execution_count": 4,
     "metadata": {},
     "output_type": "execute_result"
    }
   ],
   "source": [
    "df.dtypes"
   ]
  },
  {
   "cell_type": "code",
   "execution_count": null,
   "id": "e1e834d9-d25b-47fa-90f1-44a8aa22933f",
   "metadata": {},
   "outputs": [],
   "source": []
  },
  {
   "cell_type": "markdown",
   "id": "2fe79523-aa67-4025-b9df-2d106af6237d",
   "metadata": {
    "pycharm": {
     "name": "#%% md\n"
    }
   },
   "source": [
    "1.0. Для вашего датасета преобразовать категориальные признаки в бинарные с помощью `pd.factorize` / `pd.get_dummies`\n",
    "\n",
    "1.1. С помощью sklearn.preprocessing.StandardScaler нормализовать значения признаков и построить для нормализованного датасета `KNeighborsClassifier` (без использования конвееров)\n",
    "\n",
    "1.2. То же самое и использованием `sklearn.pipeline.Pipeline`\n",
    "\n",
    "1.3. С помощью `GridSearchCV` произвести подбор гиперпараметра `KNeighborsClassifier` (`n_neighbors`) и выведите значение гиперпараметра и метрику для наилучшей модели"
   ]
  },
  {
   "cell_type": "code",
   "execution_count": 5,
   "id": "8f37cf49-f598-41f8-967e-3582986ce2de",
   "metadata": {},
   "outputs": [
    {
     "data": {
      "text/plain": [
       "False"
      ]
     },
     "execution_count": 5,
     "metadata": {},
     "output_type": "execute_result"
    }
   ],
   "source": [
    "df.isna().any().any()"
   ]
  },
  {
   "cell_type": "code",
   "execution_count": 6,
   "id": "95446a3f-3a70-4d49-97d8-b611c8f96b0f",
   "metadata": {},
   "outputs": [
    {
     "data": {
      "text/plain": [
       "70"
      ]
     },
     "execution_count": 6,
     "metadata": {},
     "output_type": "execute_result"
    }
   ],
   "source": [
    "len(df.animal_name.unique())"
   ]
  },
  {
   "cell_type": "code",
   "execution_count": 7,
   "id": "1ebaceef-e0e0-4dfd-892d-061fc7192358",
   "metadata": {},
   "outputs": [],
   "source": [
    "df2 = df.drop(columns=['animal_name'])"
   ]
  },
  {
   "cell_type": "code",
   "execution_count": 8,
   "id": "e11c09b8-7d57-4238-8bfa-b629774f9c6b",
   "metadata": {},
   "outputs": [
    {
     "data": {
      "text/html": [
       "<div>\n",
       "<style scoped>\n",
       "    .dataframe tbody tr th:only-of-type {\n",
       "        vertical-align: middle;\n",
       "    }\n",
       "\n",
       "    .dataframe tbody tr th {\n",
       "        vertical-align: top;\n",
       "    }\n",
       "\n",
       "    .dataframe thead th {\n",
       "        text-align: right;\n",
       "    }\n",
       "</style>\n",
       "<table border=\"1\" class=\"dataframe\">\n",
       "  <thead>\n",
       "    <tr style=\"text-align: right;\">\n",
       "      <th></th>\n",
       "      <th>hair</th>\n",
       "      <th>feathers</th>\n",
       "      <th>eggs</th>\n",
       "      <th>milk</th>\n",
       "      <th>airborne</th>\n",
       "      <th>aquatic</th>\n",
       "      <th>predator</th>\n",
       "      <th>toothed</th>\n",
       "      <th>backbone</th>\n",
       "      <th>breathes</th>\n",
       "      <th>venomous</th>\n",
       "      <th>fins</th>\n",
       "      <th>legs</th>\n",
       "      <th>tail</th>\n",
       "      <th>domestic</th>\n",
       "      <th>catsize</th>\n",
       "      <th>class_type</th>\n",
       "    </tr>\n",
       "  </thead>\n",
       "  <tbody>\n",
       "    <tr>\n",
       "      <th>0</th>\n",
       "      <td>1</td>\n",
       "      <td>0</td>\n",
       "      <td>0</td>\n",
       "      <td>1</td>\n",
       "      <td>0</td>\n",
       "      <td>0</td>\n",
       "      <td>0</td>\n",
       "      <td>1</td>\n",
       "      <td>1</td>\n",
       "      <td>1</td>\n",
       "      <td>0</td>\n",
       "      <td>0</td>\n",
       "      <td>4</td>\n",
       "      <td>0</td>\n",
       "      <td>0</td>\n",
       "      <td>0</td>\n",
       "      <td>1</td>\n",
       "    </tr>\n",
       "    <tr>\n",
       "      <th>1</th>\n",
       "      <td>1</td>\n",
       "      <td>0</td>\n",
       "      <td>0</td>\n",
       "      <td>1</td>\n",
       "      <td>0</td>\n",
       "      <td>1</td>\n",
       "      <td>1</td>\n",
       "      <td>1</td>\n",
       "      <td>1</td>\n",
       "      <td>1</td>\n",
       "      <td>0</td>\n",
       "      <td>1</td>\n",
       "      <td>4</td>\n",
       "      <td>1</td>\n",
       "      <td>0</td>\n",
       "      <td>0</td>\n",
       "      <td>1</td>\n",
       "    </tr>\n",
       "    <tr>\n",
       "      <th>2</th>\n",
       "      <td>0</td>\n",
       "      <td>0</td>\n",
       "      <td>0</td>\n",
       "      <td>1</td>\n",
       "      <td>0</td>\n",
       "      <td>1</td>\n",
       "      <td>1</td>\n",
       "      <td>1</td>\n",
       "      <td>1</td>\n",
       "      <td>1</td>\n",
       "      <td>0</td>\n",
       "      <td>1</td>\n",
       "      <td>0</td>\n",
       "      <td>1</td>\n",
       "      <td>0</td>\n",
       "      <td>0</td>\n",
       "      <td>1</td>\n",
       "    </tr>\n",
       "    <tr>\n",
       "      <th>3</th>\n",
       "      <td>1</td>\n",
       "      <td>0</td>\n",
       "      <td>0</td>\n",
       "      <td>1</td>\n",
       "      <td>0</td>\n",
       "      <td>0</td>\n",
       "      <td>0</td>\n",
       "      <td>1</td>\n",
       "      <td>1</td>\n",
       "      <td>1</td>\n",
       "      <td>0</td>\n",
       "      <td>0</td>\n",
       "      <td>4</td>\n",
       "      <td>1</td>\n",
       "      <td>0</td>\n",
       "      <td>0</td>\n",
       "      <td>1</td>\n",
       "    </tr>\n",
       "    <tr>\n",
       "      <th>4</th>\n",
       "      <td>1</td>\n",
       "      <td>0</td>\n",
       "      <td>0</td>\n",
       "      <td>1</td>\n",
       "      <td>0</td>\n",
       "      <td>0</td>\n",
       "      <td>1</td>\n",
       "      <td>1</td>\n",
       "      <td>1</td>\n",
       "      <td>1</td>\n",
       "      <td>0</td>\n",
       "      <td>0</td>\n",
       "      <td>4</td>\n",
       "      <td>1</td>\n",
       "      <td>0</td>\n",
       "      <td>1</td>\n",
       "      <td>1</td>\n",
       "    </tr>\n",
       "    <tr>\n",
       "      <th>...</th>\n",
       "      <td>...</td>\n",
       "      <td>...</td>\n",
       "      <td>...</td>\n",
       "      <td>...</td>\n",
       "      <td>...</td>\n",
       "      <td>...</td>\n",
       "      <td>...</td>\n",
       "      <td>...</td>\n",
       "      <td>...</td>\n",
       "      <td>...</td>\n",
       "      <td>...</td>\n",
       "      <td>...</td>\n",
       "      <td>...</td>\n",
       "      <td>...</td>\n",
       "      <td>...</td>\n",
       "      <td>...</td>\n",
       "      <td>...</td>\n",
       "    </tr>\n",
       "    <tr>\n",
       "      <th>65</th>\n",
       "      <td>0</td>\n",
       "      <td>0</td>\n",
       "      <td>1</td>\n",
       "      <td>0</td>\n",
       "      <td>1</td>\n",
       "      <td>0</td>\n",
       "      <td>1</td>\n",
       "      <td>0</td>\n",
       "      <td>0</td>\n",
       "      <td>1</td>\n",
       "      <td>1</td>\n",
       "      <td>0</td>\n",
       "      <td>6</td>\n",
       "      <td>0</td>\n",
       "      <td>0</td>\n",
       "      <td>0</td>\n",
       "      <td>6</td>\n",
       "    </tr>\n",
       "    <tr>\n",
       "      <th>66</th>\n",
       "      <td>0</td>\n",
       "      <td>0</td>\n",
       "      <td>1</td>\n",
       "      <td>0</td>\n",
       "      <td>0</td>\n",
       "      <td>0</td>\n",
       "      <td>0</td>\n",
       "      <td>0</td>\n",
       "      <td>0</td>\n",
       "      <td>1</td>\n",
       "      <td>0</td>\n",
       "      <td>0</td>\n",
       "      <td>6</td>\n",
       "      <td>0</td>\n",
       "      <td>0</td>\n",
       "      <td>0</td>\n",
       "      <td>7</td>\n",
       "    </tr>\n",
       "    <tr>\n",
       "      <th>67</th>\n",
       "      <td>0</td>\n",
       "      <td>0</td>\n",
       "      <td>1</td>\n",
       "      <td>0</td>\n",
       "      <td>0</td>\n",
       "      <td>0</td>\n",
       "      <td>0</td>\n",
       "      <td>0</td>\n",
       "      <td>0</td>\n",
       "      <td>1</td>\n",
       "      <td>0</td>\n",
       "      <td>0</td>\n",
       "      <td>0</td>\n",
       "      <td>0</td>\n",
       "      <td>0</td>\n",
       "      <td>0</td>\n",
       "      <td>7</td>\n",
       "    </tr>\n",
       "    <tr>\n",
       "      <th>68</th>\n",
       "      <td>1</td>\n",
       "      <td>0</td>\n",
       "      <td>1</td>\n",
       "      <td>0</td>\n",
       "      <td>0</td>\n",
       "      <td>0</td>\n",
       "      <td>1</td>\n",
       "      <td>0</td>\n",
       "      <td>0</td>\n",
       "      <td>1</td>\n",
       "      <td>1</td>\n",
       "      <td>0</td>\n",
       "      <td>8</td>\n",
       "      <td>0</td>\n",
       "      <td>0</td>\n",
       "      <td>0</td>\n",
       "      <td>7</td>\n",
       "    </tr>\n",
       "    <tr>\n",
       "      <th>69</th>\n",
       "      <td>1</td>\n",
       "      <td>0</td>\n",
       "      <td>1</td>\n",
       "      <td>0</td>\n",
       "      <td>0</td>\n",
       "      <td>0</td>\n",
       "      <td>1</td>\n",
       "      <td>0</td>\n",
       "      <td>0</td>\n",
       "      <td>1</td>\n",
       "      <td>1</td>\n",
       "      <td>0</td>\n",
       "      <td>6</td>\n",
       "      <td>0</td>\n",
       "      <td>0</td>\n",
       "      <td>0</td>\n",
       "      <td>7</td>\n",
       "    </tr>\n",
       "  </tbody>\n",
       "</table>\n",
       "<p>70 rows × 17 columns</p>\n",
       "</div>"
      ],
      "text/plain": [
       "    hair  feathers  eggs  milk  airborne  aquatic  predator  toothed  \\\n",
       "0      1         0     0     1         0        0         0        1   \n",
       "1      1         0     0     1         0        1         1        1   \n",
       "2      0         0     0     1         0        1         1        1   \n",
       "3      1         0     0     1         0        0         0        1   \n",
       "4      1         0     0     1         0        0         1        1   \n",
       "..   ...       ...   ...   ...       ...      ...       ...      ...   \n",
       "65     0         0     1     0         1        0         1        0   \n",
       "66     0         0     1     0         0        0         0        0   \n",
       "67     0         0     1     0         0        0         0        0   \n",
       "68     1         0     1     0         0        0         1        0   \n",
       "69     1         0     1     0         0        0         1        0   \n",
       "\n",
       "    backbone  breathes  venomous  fins  legs  tail  domestic  catsize  \\\n",
       "0          1         1         0     0     4     0         0        0   \n",
       "1          1         1         0     1     4     1         0        0   \n",
       "2          1         1         0     1     0     1         0        0   \n",
       "3          1         1         0     0     4     1         0        0   \n",
       "4          1         1         0     0     4     1         0        1   \n",
       "..       ...       ...       ...   ...   ...   ...       ...      ...   \n",
       "65         0         1         1     0     6     0         0        0   \n",
       "66         0         1         0     0     6     0         0        0   \n",
       "67         0         1         0     0     0     0         0        0   \n",
       "68         0         1         1     0     8     0         0        0   \n",
       "69         0         1         1     0     6     0         0        0   \n",
       "\n",
       "    class_type  \n",
       "0            1  \n",
       "1            1  \n",
       "2            1  \n",
       "3            1  \n",
       "4            1  \n",
       "..         ...  \n",
       "65           6  \n",
       "66           7  \n",
       "67           7  \n",
       "68           7  \n",
       "69           7  \n",
       "\n",
       "[70 rows x 17 columns]"
      ]
     },
     "execution_count": 8,
     "metadata": {},
     "output_type": "execute_result"
    }
   ],
   "source": [
    "df2"
   ]
  },
  {
   "cell_type": "code",
   "execution_count": 9,
   "id": "eccd8250-34cd-41d3-8133-2822eff02dfc",
   "metadata": {},
   "outputs": [
    {
     "name": "stdout",
     "output_type": "stream",
     "text": [
      "hair [1 0]\n",
      "feathers [0 1]\n",
      "eggs [0 1]\n",
      "milk [1 0]\n",
      "airborne [0 1]\n",
      "aquatic [0 1]\n",
      "predator [0 1]\n",
      "toothed [1 0]\n",
      "backbone [1 0]\n",
      "breathes [1 0]\n",
      "venomous [0 1]\n",
      "fins [0 1]\n",
      "legs [4 0 2 6 8]\n",
      "tail [0 1]\n",
      "domestic [0 1]\n",
      "catsize [0 1]\n",
      "class_type [1 2 3 4 5 6 7]\n"
     ]
    }
   ],
   "source": [
    "for column in df2.columns:\n",
    "    print(column, df2[column].unique())"
   ]
  },
  {
   "cell_type": "code",
   "execution_count": 10,
   "id": "bd7a2ac6-a919-4cd4-9d33-8f771fedb1cc",
   "metadata": {},
   "outputs": [],
   "source": [
    "# преобразовываем категориальные признаки в бинарные\n",
    "df2 = pd.get_dummies(df2, columns=['legs'])"
   ]
  },
  {
   "cell_type": "code",
   "execution_count": 11,
   "id": "0ca7554a-a792-4fb0-b365-20a267f89d90",
   "metadata": {},
   "outputs": [
    {
     "name": "stdout",
     "output_type": "stream",
     "text": [
      "hair [1 0]\n",
      "feathers [0 1]\n",
      "eggs [0 1]\n",
      "milk [1 0]\n",
      "airborne [0 1]\n",
      "aquatic [0 1]\n",
      "predator [0 1]\n",
      "toothed [1 0]\n",
      "backbone [1 0]\n",
      "breathes [1 0]\n",
      "venomous [0 1]\n",
      "fins [0 1]\n",
      "tail [0 1]\n",
      "domestic [0 1]\n",
      "catsize [0 1]\n",
      "class_type [1 2 3 4 5 6 7]\n",
      "legs_0 [0 1]\n",
      "legs_2 [0 1]\n",
      "legs_4 [1 0]\n",
      "legs_6 [0 1]\n",
      "legs_8 [0 1]\n"
     ]
    }
   ],
   "source": [
    "for column in df2.columns:\n",
    "    print(column, df2[column].unique())"
   ]
  },
  {
   "cell_type": "code",
   "execution_count": 12,
   "id": "3aeda25e-cfef-4247-b96b-f8e641a53f88",
   "metadata": {},
   "outputs": [],
   "source": [
    "# 1.1 "
   ]
  },
  {
   "cell_type": "code",
   "execution_count": 13,
   "id": "0d4102a8-10ab-4544-8867-4c0df283c5e8",
   "metadata": {},
   "outputs": [],
   "source": [
    "y1 = df2.pop('class_type')"
   ]
  },
  {
   "cell_type": "code",
   "execution_count": 14,
   "id": "b21b5666-ffef-4094-9491-c047eaada2a9",
   "metadata": {},
   "outputs": [],
   "source": [
    "# Нормализуем значения признаков\n",
    "scaler = MinMaxScaler()  # применение не особо к месту, ибо датасет бинарный\n",
    "scaler2 = scaler.fit_transform(df2)"
   ]
  },
  {
   "cell_type": "code",
   "execution_count": 15,
   "id": "6149eb60-fd30-4855-bb79-8a8f754eb006",
   "metadata": {},
   "outputs": [
    {
     "data": {
      "text/plain": [
       "array([[1, 0, 0, ..., 1, 0, 0],\n",
       "       [1, 0, 0, ..., 1, 0, 0],\n",
       "       [0, 0, 0, ..., 0, 0, 0],\n",
       "       ...,\n",
       "       [0, 0, 1, ..., 0, 0, 0],\n",
       "       [1, 0, 1, ..., 0, 0, 1],\n",
       "       [1, 0, 1, ..., 0, 1, 0]], dtype=int64)"
      ]
     },
     "execution_count": 15,
     "metadata": {},
     "output_type": "execute_result"
    }
   ],
   "source": [
    "df2.values"
   ]
  },
  {
   "cell_type": "code",
   "execution_count": 16,
   "id": "a4281e06-0fca-44dd-8c8d-df1bb9791c6b",
   "metadata": {},
   "outputs": [
    {
     "data": {
      "text/plain": [
       "array([[1., 0., 0., ..., 1., 0., 0.],\n",
       "       [1., 0., 0., ..., 1., 0., 0.],\n",
       "       [0., 0., 0., ..., 0., 0., 0.],\n",
       "       ...,\n",
       "       [0., 0., 1., ..., 0., 0., 0.],\n",
       "       [1., 0., 1., ..., 0., 0., 1.],\n",
       "       [1., 0., 1., ..., 0., 1., 0.]])"
      ]
     },
     "execution_count": 16,
     "metadata": {},
     "output_type": "execute_result"
    }
   ],
   "source": [
    "scaler2"
   ]
  },
  {
   "cell_type": "code",
   "execution_count": 17,
   "id": "3223272f-8122-4abb-97da-24fd311fe3fc",
   "metadata": {},
   "outputs": [],
   "source": [
    "# делим на обучающую и тестовую выборки\n",
    "Xtrain1, Xtest1, Ytrain1, Ytest1 = train_test_split(scaler2, y1, test_size=0.33, random_state=0)"
   ]
  },
  {
   "cell_type": "code",
   "execution_count": 18,
   "id": "1dc938fe-530c-49d7-bc78-63c5a514bfe7",
   "metadata": {},
   "outputs": [],
   "source": [
    "model = KNeighborsClassifier()\n",
    "model.fit(Xtrain1, Ytrain1)\n",
    "y_pred1 = model.predict(Xtest1)"
   ]
  },
  {
   "cell_type": "code",
   "execution_count": 19,
   "id": "b58c30fc-46a1-4a95-9b6c-80ee8cfe0b04",
   "metadata": {},
   "outputs": [
    {
     "name": "stdout",
     "output_type": "stream",
     "text": [
      "Accuracy: 0.8333333333333334\n"
     ]
    }
   ],
   "source": [
    "print(\"Accuracy:\", accuracy_score(Ytest1, y_pred1))"
   ]
  },
  {
   "cell_type": "code",
   "execution_count": 20,
   "id": "276f9253-b211-48c5-b1e2-69d51cdc426a",
   "metadata": {},
   "outputs": [],
   "source": [
    "# 1.2"
   ]
  },
  {
   "cell_type": "code",
   "execution_count": 21,
   "id": "3eec096d-6326-42bc-b79b-9a9712e642dc",
   "metadata": {},
   "outputs": [],
   "source": [
    "# то же самое, но с использованием pipeline\n",
    "model2 = Pipeline([('scaler', MinMaxScaler()), ('knn', KNeighborsClassifier())])\n",
    "model2.fit(Xtrain1, Ytrain1)\n",
    "y_pred1 = model2.predict(Xtest1)"
   ]
  },
  {
   "cell_type": "code",
   "execution_count": 22,
   "id": "79a4e5ba-50d5-46d4-97eb-f2d6a90aa253",
   "metadata": {},
   "outputs": [
    {
     "name": "stdout",
     "output_type": "stream",
     "text": [
      "Accuracy: 0.8333333333333334\n"
     ]
    }
   ],
   "source": [
    "print(\"Accuracy:\", accuracy_score(Ytest1, y_pred1))"
   ]
  },
  {
   "cell_type": "code",
   "execution_count": 23,
   "id": "ed638bbe-e04f-447a-ad21-faaa5801e495",
   "metadata": {},
   "outputs": [],
   "source": [
    "# 1.3"
   ]
  },
  {
   "cell_type": "code",
   "execution_count": 24,
   "id": "8345b9a0-b26a-4c66-8791-3dcd28d5063c",
   "metadata": {},
   "outputs": [
    {
     "name": "stderr",
     "output_type": "stream",
     "text": [
      "c:\\program files\\python37\\lib\\site-packages\\sklearn\\model_selection\\_split.py:680: UserWarning: The least populated class in y has only 2 members, which is less than n_splits=5.\n",
      "  UserWarning,\n"
     ]
    },
    {
     "data": {
      "text/plain": [
       "{'n_neighbors': 3}"
      ]
     },
     "execution_count": 24,
     "metadata": {},
     "output_type": "execute_result"
    }
   ],
   "source": [
    "# производим подбор оптимальных гиперпараметров\n",
    "parameters = {'n_neighbors': range(2, 30)}\n",
    "model3 = GridSearchCV(KNeighborsClassifier(), parameters)\n",
    "model3.fit(Xtrain1, Ytrain1)\n",
    "model3.best_params_"
   ]
  },
  {
   "cell_type": "code",
   "execution_count": 25,
   "id": "bb070ac0-e0fe-4b30-8ec7-565892048332",
   "metadata": {},
   "outputs": [
    {
     "name": "stdout",
     "output_type": "stream",
     "text": [
      "Accuracy: 0.8333333333333334\n"
     ]
    }
   ],
   "source": [
    "model3 = KNeighborsClassifier(n_neighbors=5)\n",
    "model3.fit(Xtrain1,Ytrain1)\n",
    "y_pred1 = model3.predict(Xtest1)\n",
    "print(\"Accuracy:\", accuracy_score(Ytest1, y_pred1))"
   ]
  },
  {
   "cell_type": "markdown",
   "id": "e78b53ab-4753-4020-b274-5888f9f8a4a4",
   "metadata": {
    "pycharm": {
     "name": "#%% md\n"
    }
   },
   "source": [
    "\n",
    "2.1. Продемонстрировать работу `DecisionTreeClassifier`, посчитать метрики качества на отложенной выборке\n",
    "\n",
    "2.2. С помощью `GridSearchCV` произвести подбор гиперпараметров для поиска наилучшего дерева (перебрать `max_depth`, `max_features` и может быть что-то ещё)\n",
    "\n",
    "2.3. Для полученного наилучшего дерева построить график feature_importances и дополнительно напечатать 3 наиболее важных признака, отсортировав их по убыванию важности\n"
   ]
  },
  {
   "cell_type": "code",
   "execution_count": 26,
   "id": "0994ad13-de3d-40cf-83d1-58b50f4cd979",
   "metadata": {
    "pycharm": {
     "name": "#%%\n"
    }
   },
   "outputs": [
    {
     "name": "stdout",
     "output_type": "stream",
     "text": [
      "Accuracy: 0.9583333333333334\n"
     ]
    },
    {
     "data": {
      "text/plain": [
       "{'ccp_alpha': 0.0,\n",
       " 'class_weight': None,\n",
       " 'criterion': 'gini',\n",
       " 'max_depth': None,\n",
       " 'max_features': None,\n",
       " 'max_leaf_nodes': None,\n",
       " 'min_impurity_decrease': 0.0,\n",
       " 'min_samples_leaf': 1,\n",
       " 'min_samples_split': 2,\n",
       " 'min_weight_fraction_leaf': 0.0,\n",
       " 'random_state': None,\n",
       " 'splitter': 'best'}"
      ]
     },
     "execution_count": 26,
     "metadata": {},
     "output_type": "execute_result"
    }
   ],
   "source": [
    "# 2.1\n",
    "\n",
    "model4 = DecisionTreeClassifier()\n",
    "model4.fit(Xtrain1, Ytrain1)\n",
    "y_pred1 = model4.predict(Xtest1)\n",
    "print(\"Accuracy:\", accuracy_score(Ytest1, y_pred1))\n",
    "\n",
    "model4.get_params()"
   ]
  },
  {
   "cell_type": "code",
   "execution_count": 27,
   "id": "bf83b31d-f596-47de-a5fb-0dfcbd6a47e6",
   "metadata": {},
   "outputs": [
    {
     "name": "stderr",
     "output_type": "stream",
     "text": [
      "c:\\program files\\python37\\lib\\site-packages\\sklearn\\model_selection\\_split.py:680: UserWarning: The least populated class in y has only 2 members, which is less than n_splits=5.\n",
      "  UserWarning,\n"
     ]
    },
    {
     "name": "stdout",
     "output_type": "stream",
     "text": [
      "Accuracy: 0.9583333333333334\n"
     ]
    },
    {
     "data": {
      "text/plain": [
       "{'max_depth': 6, 'max_features': None, 'splitter': 'best'}"
      ]
     },
     "execution_count": 27,
     "metadata": {},
     "output_type": "execute_result"
    }
   ],
   "source": [
    "# 2.2 \n",
    "\n",
    "parameters = {'max_depth': [None] + list(range(2, 30)), \n",
    "              'max_features': (None, 'auto', 'sqrt', 'log2'),\n",
    "             'splitter': ('best', 'random')}\n",
    "model5 = GridSearchCV(model4, parameters)\n",
    "model5.fit(Xtrain1, Ytrain1)\n",
    "y_pred1 = model5.predict(Xtest1)\n",
    "print(\"Accuracy:\", accuracy_score(Ytest1, y_pred1))\n",
    "\n",
    "model5.best_params_"
   ]
  },
  {
   "cell_type": "code",
   "execution_count": 28,
   "id": "11a64f17-a9cc-4296-a66a-1ed11d6669e8",
   "metadata": {},
   "outputs": [
    {
     "name": "stdout",
     "output_type": "stream",
     "text": [
      "График\n"
     ]
    },
    {
     "data": {
      "image/png": "[encoded data removed]",
      "text/plain": [
       "<Figure size 1008x288 with 1 Axes>"
      ]
     },
     "metadata": {
      "needs_background": "light"
     },
     "output_type": "display_data"
    }
   ],
   "source": [
    "model4 = DecisionTreeClassifier(max_depth=12, max_features='sqrt', splitter='random')\n",
    "model4.fit(Xtrain1, Ytrain1)\n",
    "importances = model4.feature_importances_\n",
    "plt.figure(figsize=(14, 4))\n",
    "plt.bar(df2.columns, importances)\n",
    "plt.xticks(rotation=35)\n",
    "print(\"График\")"
   ]
  },
  {
   "cell_type": "code",
   "execution_count": 29,
   "id": "1bc8cce9-68a5-48bf-b34c-14ca65260994",
   "metadata": {},
   "outputs": [
    {
     "data": {
      "text/plain": [
       "['milk', 'legs_2', 'breathes']"
      ]
     },
     "execution_count": 29,
     "metadata": {},
     "output_type": "execute_result"
    }
   ],
   "source": [
    "# Ищем наиболее важные (3)\n",
    "s = {col: imp for col, imp in zip(df2.columns, importances)}\n",
    "sorted(s, reverse=True, key=s.get)[:3]"
   ]
  },
  {
   "cell_type": "markdown",
   "id": "17b7bd1d-b4e5-4991-b7f3-2b39bd1fa94c",
   "metadata": {
    "pycharm": {
     "name": "#%% md\n"
    }
   },
   "source": [
    "3.1. Продемонстрировать работу случайного леса `RandomForestClassifier`\n",
    "\n",
    "3.2. С помощью `GridSearchCV` произвести подбор гиперпараметров для поиск наилучшего леса, посмотреть насколько улучшились метрики\n"
   ]
  },
  {
   "cell_type": "markdown",
   "id": "91c0fbe3-a275-4715-89eb-25670bbbe1cd",
   "metadata": {
    "pycharm": {
     "name": "#%% md\n"
    }
   },
   "source": [
    "4. Сделать выводы. Какой классификатор и с камими гиперпараметрами дал в итоге наилучший результат для выбранного датасета на отложенной выборке."
   ]
  },
  {
   "cell_type": "code",
   "execution_count": 30,
   "id": "ac4095c5-6148-4a69-a787-30abbb94e2d7",
   "metadata": {
    "pycharm": {
     "name": "#%%\n"
    }
   },
   "outputs": [],
   "source": [
    "# 3.1"
   ]
  },
  {
   "cell_type": "code",
   "execution_count": 31,
   "id": "602fde2e-cb9c-4568-b11c-aa46627db7f9",
   "metadata": {},
   "outputs": [
    {
     "data": {
      "text/plain": [
       "{'bootstrap': True,\n",
       " 'ccp_alpha': 0.0,\n",
       " 'class_weight': None,\n",
       " 'criterion': 'gini',\n",
       " 'max_depth': None,\n",
       " 'max_features': 'auto',\n",
       " 'max_leaf_nodes': None,\n",
       " 'max_samples': None,\n",
       " 'min_impurity_decrease': 0.0,\n",
       " 'min_samples_leaf': 1,\n",
       " 'min_samples_split': 2,\n",
       " 'min_weight_fraction_leaf': 0.0,\n",
       " 'n_estimators': 100,\n",
       " 'n_jobs': None,\n",
       " 'oob_score': False,\n",
       " 'random_state': None,\n",
       " 'verbose': 0,\n",
       " 'warm_start': False}"
      ]
     },
     "execution_count": 31,
     "metadata": {},
     "output_type": "execute_result"
    }
   ],
   "source": [
    "model6 = RandomForestClassifier()\n",
    "model6.fit(Xtrain1, Ytrain1)\n",
    "y_pred1 = model.predict(Xtest1)\n",
    "\n",
    "model6.get_params()"
   ]
  },
  {
   "cell_type": "code",
   "execution_count": 32,
   "id": "06313af4-e008-48ce-8e47-5e0b08ed8998",
   "metadata": {},
   "outputs": [
    {
     "name": "stdout",
     "output_type": "stream",
     "text": [
      "Accuracy: 0.8333333333333334\n"
     ]
    }
   ],
   "source": [
    "print(\"Accuracy:\", accuracy_score(Ytest1, y_pred1))"
   ]
  },
  {
   "cell_type": "code",
   "execution_count": 33,
   "id": "4f8741c7-9d46-4676-bd05-dd5bdb766093",
   "metadata": {},
   "outputs": [],
   "source": [
    "# 3.2"
   ]
  },
  {
   "cell_type": "code",
   "execution_count": 34,
   "id": "c49a3af3-61bc-452e-a3fe-13fc5e2ccc7a",
   "metadata": {},
   "outputs": [
    {
     "name": "stderr",
     "output_type": "stream",
     "text": [
      "c:\\program files\\python37\\lib\\site-packages\\sklearn\\model_selection\\_split.py:680: UserWarning: The least populated class in y has only 2 members, which is less than n_splits=5.\n",
      "  UserWarning,\n"
     ]
    },
    {
     "name": "stdout",
     "output_type": "stream",
     "text": [
      "RandomForestClassifier(n_estimators=30)\n"
     ]
    }
   ],
   "source": [
    "params = {\n",
    "    \"criterion\": (\"gini\", \"entropy\"),\n",
    "    \"n_estimators\": [5, 10, 15, 30, 50, 100]\n",
    "}\n",
    "model7 = GridSearchCV(RandomForestClassifier(), params)\n",
    "model7.fit(Xtrain1, Ytrain1)\n",
    "print(model7.best_estimator_)"
   ]
  },
  {
   "cell_type": "code",
   "execution_count": 35,
   "id": "635325a9-f231-4fdb-b1d8-4975f7e13563",
   "metadata": {},
   "outputs": [
    {
     "name": "stdout",
     "output_type": "stream",
     "text": [
      "Accuracy: 0.9166666666666666\n"
     ]
    }
   ],
   "source": [
    "y_pred1 = model7.predict(Xtest1)\n",
    "print(\"Accuracy:\", accuracy_score(Ytest1, y_pred1))"
   ]
  },
  {
   "cell_type": "code",
   "execution_count": 36,
   "id": "a7411005-74bc-426c-99a9-a49c56e8490b",
   "metadata": {},
   "outputs": [
    {
     "name": "stdout",
     "output_type": "stream",
     "text": [
      "График\n"
     ]
    },
    {
     "data": {
      "image/png": "[encoded data removed]",
      "text/plain": [
       "<Figure size 1008x288 with 1 Axes>"
      ]
     },
     "metadata": {
      "needs_background": "light"
     },
     "output_type": "display_data"
    }
   ],
   "source": [
    "model8 = RandomForestClassifier(criterion='entropy', n_estimators=21)\n",
    "model8.fit(Xtrain1, Ytrain1)\n",
    "importances = model8.feature_importances_\n",
    "plt.figure(figsize=(14, 4))\n",
    "plt.bar(df2.columns, importances)\n",
    "plt.xticks(rotation=20)\n",
    "print(\"График\")"
   ]
  },
  {
   "cell_type": "markdown",
   "id": "b0ba99f0-efd4-406e-b017-fc6af0e0f8dc",
   "metadata": {},
   "source": [
    "#### 4\n",
    "Выводы:"
   ]
  },
  {
   "cell_type": "markdown",
   "id": "c2f11f9b-297b-4a66-83d6-873dcccedd5e",
   "metadata": {},
   "source": [
    "Наибольшую точность (Accuracy = 0.958) продемонстрировал классификатор DecisionTreeClassifier() с параметрами по умолчанию.\n",
    "\n",
    "После него с небольшим отставанием (Accuracy=0.916) идет RandomForestClassifier() с параметром n_estimators=30."
   ]
  },
  {
   "cell_type": "code",
   "execution_count": null,
   "id": "755ae3dc-7d79-4abb-8018-966ae1aa5009",
   "metadata": {},
   "outputs": [],
   "source": []
  },
  {
   "cell_type": "code",
   "execution_count": null,
   "id": "f264123c-1cb4-4728-91e9-8d529abbd4c0",
   "metadata": {},
   "outputs": [],
   "source": []
  },
  {
   "cell_type": "code",
   "execution_count": null,
   "id": "c15d4855-cb52-4c9d-8536-43c2bc9bd3c1",
   "metadata": {},
   "outputs": [],
   "source": []
  }
 ],
 "metadata": {
  "kernelspec": {
   "display_name": "Python 3 (ipykernel)",
   "language": "python",
   "name": "python3"
  },
  "language_info": {
   "codemirror_mode": {
    "name": "ipython",
    "version": 3
   },
   "file_extension": ".py",
   "mimetype": "text/x-python",
   "name": "python",
   "nbconvert_exporter": "python",
   "pygments_lexer": "ipython3",
   "version": "3.7.3"
  }
 },
 "nbformat": 4,
 "nbformat_minor": 5
}
